{
 "cells": [
  {
   "cell_type": "code",
   "execution_count": 3,
   "metadata": {},
   "outputs": [],
   "source": [
    "import csv\n",
    "import pandas as pd"
   ]
  },
  {
   "cell_type": "code",
   "execution_count": 23,
   "metadata": {},
   "outputs": [],
   "source": [
    "with open(\"Models by Manufacturer Resurgence 4-04-19 CA.xlsx\", \"rb\") as mmr:\n",
    "    mmr_df = pd.read_excel(mmr)[['Firm','Model name','Analog','Digital']]\n",
    "    filtered_firm_ls = list(set(mmr_df.Firm.tolist()))\n",
    "    filtered_mod_ls = list(set(mmr_df['Model name'].tolist()))"
   ]
  },
  {
   "cell_type": "code",
   "execution_count": 5,
   "metadata": {},
   "outputs": [
    {
     "name": "stdout",
     "output_type": "stream",
     "text": [
      "         Firm         Model name  Analog  Digital\n",
      "0      Clavia          Nord Lead     NaN      1.0\n",
      "1      Clavia          Nord Rack     NaN      1.0\n",
      "2        Korg           Prophecy     NaN      1.0\n",
      "3    Novation       Drum Station     NaN      1.0\n",
      "4  Quasimidi   Rave-O-Lution 309     NaN      1.0\n"
     ]
    }
   ],
   "source": [
    "print(mmr_df.head())"
   ]
  },
  {
   "cell_type": "code",
   "execution_count": 6,
   "metadata": {},
   "outputs": [
    {
     "name": "stdout",
     "output_type": "stream",
     "text": [
      "['Electric Music Studios', 'Marion Systems', 'Moog2', 'Studio Electronics', 'Yamaha', 'New England Digital', 'Casio', 'Kawai', 'Powertran', 'Vermona', 'Moog1', 'PPG', 'Aries', 'Arturia', 'Propellerhead Software', '360 Systems', 'Steinberg', 'Sequential2', 'Electronic Dream Plant', 'FBT Electronica', 'Synton', 'Oberheim-Viscount', 'BitHeadz', 'Hartmann', 'Kurzweil', 'TC works', 'Lennar Digital', 'GEM', 'Oxford Synthesiser Company', 'Akai', 'Radikal Technologies', 'Octave', 'Doepfer', 'Farisa', 'Oberheim-Gibson', 'EMU', 'Future Retro', 'IK Multimedia', 'Way out Ware', 'Siel', 'VAZ Synth', 'Seer Systems', 'Synthesizers.com', 'Crumar', 'Electro Harmonix', 'Roland', 'Wine Country Sequential', 'Con Brio', 'Formanta ', 'Elka', 'Fairlight', 'Will systems', 'Applied Acoustics', 'Waldorf', 'Ensoniq', 'Gleeman', 'Octave Plateau', 'Clavia', 'ARP', 'MAM', 'Technosauras', 'Quasimidi ', 'Wersi', 'Oberheim2', 'Red Sound System', 'Steiner-Parker', 'PAiA', 'JoMoX', 'Analogue Systems', 'Korg', 'Jen Electronics', 'Rhodes', 'Realistic ', 'Davoli', 'Wiard', 'Syntauri', 'Cheetah', 'Digital Keyboards', 'GForce Software', 'Syntecno', 'Image Line', 'EKO', 'Ketron', 'RSF', 'Welson', 'Sequential1', 'Novation', 'Electronic Music Laboratories', 'MacBeth Studio Systems', 'Sequential2 - Dave Smith Instruments', 'Alesis', 'Wurlitzer', 'Logan Electronics', 'Spectral Audio', 'Buchla', 'BOSS', 'Serge', 'Access', 'Native Instruments', 'Ladyada', 'Oberheim', 'Hammond']\n"
     ]
    }
   ],
   "source": [
    "print(filtered_firm_ls)"
   ]
  },
  {
   "cell_type": "code",
   "execution_count": 7,
   "metadata": {},
   "outputs": [],
   "source": [
    "with open(\"Edited_Coded_Models_by_manufacturer_resurgence.csv\", \"rb\") as cm:\n",
    "    cm_df = pd.read_csv(cm)[['firm','Model name','user_rating','vse_rating','specifications','raw_text']]"
   ]
  },
  {
   "cell_type": "code",
   "execution_count": 8,
   "metadata": {},
   "outputs": [
    {
     "name": "stdout",
     "output_type": "stream",
     "text": [
      "   firm                Model name  user_rating  vse_rating  \\\n",
      "0  Korg                      01/W         3.91         4.0   \n",
      "1  Korg                       707         3.03         2.0   \n",
      "2  Korg                       770         3.53         3.0   \n",
      "3  Korg  900PS Preset Synthesizer         2.88         2.0   \n",
      "4  Korg                     DDD-1         3.62         3.0   \n",
      "\n",
      "                                      specifications  \\\n",
      "0  {'Polyphony': '32 voices (16-part multitimbral...   \n",
      "1  {'Polyphony': '8 voices', 'Oscillators': 'Digi...   \n",
      "2  {'Polyphony': '1 - Monophonic', 'Oscillators':...   \n",
      "3  {'Effects': 'Vibrato, Portamento', 'Filter': '...   \n",
      "4  {'Polyphony': '18 voices', 'Sounds': '18 sampl...   \n",
      "\n",
      "                                            raw_text  \n",
      "0  Korg 01/WFDKorg's 01/W workstation synthesizer...  \n",
      "1   A good entry level digital synth. It's small ...  \n",
      "2  An ancient synthesizer from Korg. Aside from b...  \n",
      "3  This is the rare Korg 900PS analog Preset Synt...  \n",
      "4   The DDD-1 is a digital programmable drum mach...  \n"
     ]
    }
   ],
   "source": [
    "print(cm_df.head())"
   ]
  },
  {
   "cell_type": "code",
   "execution_count": 9,
   "metadata": {},
   "outputs": [
    {
     "name": "stdout",
     "output_type": "stream",
     "text": [
      "['Wave Idea', 'Chamberlin', 'Bomb Factory Studios', 'Moog', 'Horst', 'Will Systems', 'Encore Electronics', 'Dave Smith Instruments', 'Metasonix', 'E-mu', 'Logan / Hohner', 'Red Sound Systems', 'GR International', 'Generalmusic (GEM)', 'Kenton Electronics', 'TC|Works', 'Sequential Circuits', 'Triadex', 'Realistic', 'VAZ Synths', 'Sherman Electronics', 'Electronic Dream Plant (EDP)', 'Philips', 'MidiBox', 'Electronic Music Studios (EMS)', 'Farfisa', 'Mutronics', 'Chimera Synthesis', 'Teisco / Kawai', 'Teisco', 'Movement MCS', 'Formanta', 'Control Synthesis', 'Electrix Pro', 'Frostwave', 'SoundMaster', 'Prosoniq', 'Quasimidi', 'Linn Electronics', 'Elektron', 'KeyFax', 'EML', 'Creamware', 'Technosaurus', 'Solton', 'Way Out Ware']\n"
     ]
    }
   ],
   "source": [
    "set_cm = list(set(cm_df.firm.tolist()))\n",
    "excess = [item for item in set_cm if item not in filtered_firm_ls]\n",
    "print(excess)"
   ]
  },
  {
   "cell_type": "code",
   "execution_count": 10,
   "metadata": {},
   "outputs": [],
   "source": [
    "filtered_cm = cm_df.loc[cm_df['firm'].isin(filtered_firm_ls)]"
   ]
  },
  {
   "cell_type": "code",
   "execution_count": 11,
   "metadata": {},
   "outputs": [
    {
     "name": "stdout",
     "output_type": "stream",
     "text": [
      "   firm                Model name  user_rating  vse_rating  \\\n",
      "0  Korg                      01/W         3.91         4.0   \n",
      "1  Korg                       707         3.03         2.0   \n",
      "2  Korg                       770         3.53         3.0   \n",
      "3  Korg  900PS Preset Synthesizer         2.88         2.0   \n",
      "4  Korg                     DDD-1         3.62         3.0   \n",
      "\n",
      "                                      specifications  \\\n",
      "0  {'Polyphony': '32 voices (16-part multitimbral...   \n",
      "1  {'Polyphony': '8 voices', 'Oscillators': 'Digi...   \n",
      "2  {'Polyphony': '1 - Monophonic', 'Oscillators':...   \n",
      "3  {'Effects': 'Vibrato, Portamento', 'Filter': '...   \n",
      "4  {'Polyphony': '18 voices', 'Sounds': '18 sampl...   \n",
      "\n",
      "                                            raw_text  \n",
      "0  Korg 01/WFDKorg's 01/W workstation synthesizer...  \n",
      "1   A good entry level digital synth. It's small ...  \n",
      "2  An ancient synthesizer from Korg. Aside from b...  \n",
      "3  This is the rare Korg 900PS analog Preset Synt...  \n",
      "4   The DDD-1 is a digital programmable drum mach...  \n"
     ]
    }
   ],
   "source": [
    "print(filtered_cm.head())"
   ]
  },
  {
   "cell_type": "code",
   "execution_count": 17,
   "metadata": {},
   "outputs": [
    {
     "name": "stdout",
     "output_type": "stream",
     "text": [
      "          Model name  Analog  Digital\n",
      "0          Nord Lead     NaN      1.0\n",
      "1          Nord Rack     NaN      1.0\n",
      "2           Prophecy     NaN      1.0\n",
      "3       Drum Station     NaN      1.0\n",
      "4  Rave-O-Lution 309     NaN      1.0\n"
     ]
    }
   ],
   "source": [
    "mmr_mod = pd.DataFrame(mmr_df[['Model name','Analog','Digital']])\n",
    "print(mmr_mod.head())\n",
    "edited_ca = pd.merge(mmr_mod, filtered_cm, how='left', on='Model name')"
   ]
  },
  {
   "cell_type": "code",
   "execution_count": 18,
   "metadata": {},
   "outputs": [
    {
     "name": "stdout",
     "output_type": "stream",
     "text": [
      "               Model name  Analog  Digital          firm  user_rating  \\\n",
      "0               Nord Lead     NaN      1.0           NaN          NaN   \n",
      "1               Nord Rack     NaN      1.0        Clavia         3.94   \n",
      "2                Prophecy     NaN      1.0          Korg         3.94   \n",
      "3            Drum Station     NaN      1.0      Novation         3.73   \n",
      "4       Rave-O-Lution 309     NaN      1.0           NaN          NaN   \n",
      "5                 JP-8000     NaN      1.0        Roland         4.21   \n",
      "6                    CS1x     NaN      1.0        Yamaha         4.21   \n",
      "7                    AN1x     NaN      1.0        Yamaha         4.29   \n",
      "8                 Virus A     NaN      1.0        Access         3.86   \n",
      "9       Nord Modular Rack     NaN      1.0           NaN          NaN   \n",
      "10           Nord Modular     NaN      1.0        Clavia         4.28   \n",
      "11       Nord Lead 2 rack     NaN      1.0           NaN          NaN   \n",
      "12            Nord Lead 2     NaN      1.0           NaN          NaN   \n",
      "13                     Z1     NaN      1.0          Korg         4.38   \n",
      "14        Drum Station v2     NaN      1.0      Novation         3.86   \n",
      "15                Reality     NaN      1.0  Seer Systems         3.06   \n",
      "16             Retro AS-1     NaN      1.0      BitHeadz         2.56   \n",
      "17              SuperNova     NaN      1.0      Novation         4.03   \n",
      "18           SuperNova II     NaN      1.0           NaN          NaN   \n",
      "19     SuperNova Keyboard     NaN      1.0           NaN          NaN   \n",
      "20                JP-8080     NaN      1.0        Roland         4.14   \n",
      "21            VAZ Modular     NaN      1.0           NaN          NaN   \n",
      "22                    EX7     NaN      1.0        Yamaha         3.50   \n",
      "23                    EX5     NaN      1.0        Yamaha         4.01   \n",
      "24                Virus B     NaN      1.0        Access         3.91   \n",
      "25               Virus KB     NaN      1.0           NaN          NaN   \n",
      "26     Nord Micro Modular     NaN      1.0        Clavia         4.11   \n",
      "27                   Nova     NaN      1.0      Novation         3.92   \n",
      "28                Nova II     NaN      1.0           NaN          NaN   \n",
      "29              PolyMorph     NaN      1.0           NaN          NaN   \n",
      "..                    ...     ...      ...           ...          ...   \n",
      "798                  OB-6     1.0      NaN           NaN          NaN   \n",
      "799                  OB-6     1.0      NaN           NaN          NaN   \n",
      "800          OB-6 desktop     1.0      NaN           NaN          NaN   \n",
      "801             Monologue     1.0      NaN           NaN          NaN   \n",
      "802                 SE-02     1.0      NaN           NaN          NaN   \n",
      "803          Prophet Rev2     1.0      NaN           NaN          NaN   \n",
      "804  Prophet Rev2 desktop     1.0      NaN           NaN          NaN   \n",
      "805           Toraiz AS-1     1.0      NaN           NaN          NaN   \n",
      "806                  Peak     NaN      1.0      Novation         3.91   \n",
      "807         Volca Modular     1.0      NaN           NaN          NaN   \n",
      "808              Moog One     1.0      NaN           NaN          NaN   \n",
      "809           Grandmother     1.0      NaN           NaN          NaN   \n",
      "810             Prophet X     NaN      1.0           NaN          NaN   \n",
      "811            Prophet XL     NaN      1.0           NaN          NaN   \n",
      "812               Ax-Edge     NaN      1.0           NaN          NaN   \n",
      "813                   PCX     NaN      1.0           NaN          NaN   \n",
      "814                 PC3LE     NaN      1.0           NaN          NaN   \n",
      "815                  PC3K     NaN      1.0           NaN          NaN   \n",
      "816                XPS-10     NaN      1.0           NaN          NaN   \n",
      "817                CD3000     NaN      NaN           NaN          NaN   \n",
      "818                 XW-G1     NaN      1.0           NaN          NaN   \n",
      "819                 Audya     NaN      1.0           NaN          NaN   \n",
      "820               Audya 5     NaN      1.0           NaN          NaN   \n",
      "821                   SD5     NaN      1.0           NaN          NaN   \n",
      "822                   SD7     NaN      1.0           NaN          NaN   \n",
      "823                   SD9     NaN      1.0           NaN          NaN   \n",
      "824                  SD60     NaN      1.0           NaN          NaN   \n",
      "825                   SD1     NaN      1.0           NaN          NaN   \n",
      "826                   XD9     NaN      1.0           NaN          NaN   \n",
      "827                    X1     NaN      1.0           NaN          NaN   \n",
      "\n",
      "     vse_rating                                     specifications  \\\n",
      "0           NaN                                                NaN   \n",
      "1           4.0  {'Polyphony': '4 to 12 voices, 4 part Multitim...   \n",
      "2           5.0  {'Polyphony': 'Monophonic', 'Oscillators': 'Ph...   \n",
      "3           5.0  {'Polyphony': '5 Voice', 'Oscillators': 'Digit...   \n",
      "4           NaN                                                NaN   \n",
      "5           5.0  {'Polyphony': '8 voices', 'Oscillators': '2 Ro...   \n",
      "6           4.0  {'Polyphony': '32 notes', 'Oscillators': 'XG F...   \n",
      "7           5.0  {'Polyphony': '10 notes', 'Oscillators': '2 os...   \n",
      "8           4.0  {'Polyphony': '12 voices', 'Oscillators': '2 O...   \n",
      "9           NaN                                                NaN   \n",
      "10          5.0  {'Polyphony': '32 voices', 'Oscillators': '6 V...   \n",
      "11          NaN                                                NaN   \n",
      "12          NaN                                                NaN   \n",
      "13          5.0  {'Polyphony': '12 voices (expandable to 18)', ...   \n",
      "14          5.0  {'Polyphony': '5 Voice', 'Oscillators': 'Digit...   \n",
      "15          4.0  {'Polyphony': '128 voices', 'Oscillators': '4 ...   \n",
      "16          5.0  {'Polyphony': 'Up to 32 notes', 'Oscillators':...   \n",
      "17          5.0  {'Polyphony': 'SuperNova: 20 voices, expandabl...   \n",
      "18          NaN                                                NaN   \n",
      "19          NaN                                                NaN   \n",
      "20          5.0  {'Polyphony': '10 voices', 'Oscillators': '2 R...   \n",
      "21          NaN                                                NaN   \n",
      "22          5.0  {'Polyphony': '64 voices', 'Oscillators': 'AWM...   \n",
      "23          5.0  {'Polyphony': '128 voices maximum', 'Oscillato...   \n",
      "24          5.0  {'Polyphony': '24 voices (Rack model has 16 vo...   \n",
      "25          NaN                                                NaN   \n",
      "26          5.0  {'Polyphony': '4 voices', 'Oscillators': '6 VS...   \n",
      "27          5.0  {'Polyphony': '12 voices (expandable to 24, 36...   \n",
      "28          NaN                                                NaN   \n",
      "29          NaN                                                NaN   \n",
      "..          ...                                                ...   \n",
      "798         NaN                                                NaN   \n",
      "799         NaN                                                NaN   \n",
      "800         NaN                                                NaN   \n",
      "801         NaN                                                NaN   \n",
      "802         NaN                                                NaN   \n",
      "803         NaN                                                NaN   \n",
      "804         NaN                                                NaN   \n",
      "805         NaN                                                NaN   \n",
      "806         NaN  {'Polyphony': '8 voices', 'Oscillators': '3 Ne...   \n",
      "807         NaN                                                NaN   \n",
      "808         NaN                                                NaN   \n",
      "809         NaN                                                NaN   \n",
      "810         NaN                                                NaN   \n",
      "811         NaN                                                NaN   \n",
      "812         NaN                                                NaN   \n",
      "813         NaN                                                NaN   \n",
      "814         NaN                                                NaN   \n",
      "815         NaN                                                NaN   \n",
      "816         NaN                                                NaN   \n",
      "817         NaN                                                NaN   \n",
      "818         NaN                                                NaN   \n",
      "819         NaN                                                NaN   \n",
      "820         NaN                                                NaN   \n",
      "821         NaN                                                NaN   \n",
      "822         NaN                                                NaN   \n",
      "823         NaN                                                NaN   \n",
      "824         NaN                                                NaN   \n",
      "825         NaN                                                NaN   \n",
      "826         NaN                                                NaN   \n",
      "827         NaN                                                NaN   \n",
      "\n",
      "                                              raw_text  \n",
      "0                                                  NaN  \n",
      "1    One of the most incredible new synths availabl...  \n",
      "2    Digital does analog! The Prophecy was among on...  \n",
      "3     This is the first true TR-808 / 909 clone! Un...  \n",
      "4                                                  NaN  \n",
      "5      The JP-8000 Music Synthesizer has been desig...  \n",
      "6     The CS1x is Yamaha's first Analog Emulation p...  \n",
      "7     The AN1x is a powerful retro-analog synth wit...  \n",
      "8    The Access Virus is a very cool, German made d...  \n",
      "9                                                  NaN  \n",
      "10   The Nord Modular is Clavia's Nord synth with m...  \n",
      "11                                                 NaN  \n",
      "12                                                 NaN  \n",
      "13   The Z1 is like a polyphonic Prophecy housed in...  \n",
      "14   Essentially a re-packaged Drum Station, the v2...  \n",
      "15   Seer Systems has created a very extensive and ...  \n",
      "16   The Retro AS-1 is a full featured programmable...  \n",
      "17   SuperNovaAn excellent polyphonic super synth b...  \n",
      "18                                                 NaN  \n",
      "19                                                 NaN  \n",
      "20   The JP-8080 Analog Modeling Synthesizer Module...  \n",
      "21                                                 NaN  \n",
      "22   The EX7 features a\\nunique Extended Synthesis ...  \n",
      "23   The EX5 features a\\nunique Extended Synthesis ...  \n",
      "24    Following up on the success of the popular Vi...  \n",
      "25                                                 NaN  \n",
      "26   The Nord Micro Modular is a somewhat stripped ...  \n",
      "27    Novation has basically re-packaged the SuperN...  \n",
      "28                                                 NaN  \n",
      "29                                                 NaN  \n",
      "..                                                 ...  \n",
      "798                                                NaN  \n",
      "799                                                NaN  \n",
      "800                                                NaN  \n",
      "801                                                NaN  \n",
      "802                                                NaN  \n",
      "803                                                NaN  \n",
      "804                                                NaN  \n",
      "805                                                NaN  \n",
      "806  Announced at SuperBooth 2017, Peak is Novation...  \n",
      "807                                                NaN  \n",
      "808                                                NaN  \n",
      "809                                                NaN  \n",
      "810                                                NaN  \n",
      "811                                                NaN  \n",
      "812                                                NaN  \n",
      "813                                                NaN  \n",
      "814                                                NaN  \n",
      "815                                                NaN  \n",
      "816                                                NaN  \n",
      "817                                                NaN  \n",
      "818                                                NaN  \n",
      "819                                                NaN  \n",
      "820                                                NaN  \n",
      "821                                                NaN  \n",
      "822                                                NaN  \n",
      "823                                                NaN  \n",
      "824                                                NaN  \n",
      "825                                                NaN  \n",
      "826                                                NaN  \n",
      "827                                                NaN  \n",
      "\n",
      "[828 rows x 8 columns]\n"
     ]
    }
   ],
   "source": [
    "print(edited_ca)"
   ]
  },
  {
   "cell_type": "code",
   "execution_count": 19,
   "metadata": {},
   "outputs": [],
   "source": [
    "edited_ca.to_excel('CM_with_ratings_specs_rawtext.xlsx', header=True)"
   ]
  },
  {
   "cell_type": "code",
   "execution_count": 21,
   "metadata": {},
   "outputs": [],
   "source": [
    "with open(\"CM_with_ratings_specs_rawtext.xlsx\", \"rb\") as new_cm:\n",
    "    new_cm_df = pd.read_excel(new_cm)[['firm','Model name']]"
   ]
  },
  {
   "cell_type": "code",
   "execution_count": 24,
   "metadata": {},
   "outputs": [
    {
     "name": "stdout",
     "output_type": "stream",
     "text": [
      "[]\n"
     ]
    }
   ],
   "source": [
    "excess = [item for item in new_cm_df['Model name'].tolist() if item not in filtered_mod_ls]\n",
    "print(excess)"
   ]
  },
  {
   "cell_type": "code",
   "execution_count": null,
   "metadata": {},
   "outputs": [],
   "source": []
  },
  {
   "cell_type": "code",
   "execution_count": null,
   "metadata": {},
   "outputs": [],
   "source": []
  }
 ],
 "metadata": {
  "kernelspec": {
   "display_name": "Python 3",
   "language": "python",
   "name": "python3"
  },
  "language_info": {
   "codemirror_mode": {
    "name": "ipython",
    "version": 3
   },
   "file_extension": ".py",
   "mimetype": "text/x-python",
   "name": "python",
   "nbconvert_exporter": "python",
   "pygments_lexer": "ipython3",
   "version": "3.7.1"
  }
 },
 "nbformat": 4,
 "nbformat_minor": 2
}
