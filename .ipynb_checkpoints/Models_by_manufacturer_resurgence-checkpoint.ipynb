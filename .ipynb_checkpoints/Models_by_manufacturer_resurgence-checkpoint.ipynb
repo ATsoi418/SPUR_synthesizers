{
 "cells": [
  {
   "cell_type": "raw",
   "metadata": {},
   "source": [
    "http://www.vintagesynth.com/"
   ]
  },
  {
   "cell_type": "code",
   "execution_count": 1,
   "metadata": {},
   "outputs": [],
   "source": [
    "import pandas as pd\n",
    "import requests\n",
    "import json\n",
    "from bs4 import BeautifulSoup\n",
    "import urllib.request\n",
    "import re\n",
    "import csv"
   ]
  },
  {
   "cell_type": "code",
   "execution_count": null,
   "metadata": {},
   "outputs": [],
   "source": [
    "#with open('synth_top200.json') as s:\n",
    "#    data = json.load(s)"
   ]
  },
  {
   "cell_type": "code",
   "execution_count": null,
   "metadata": {},
   "outputs": [],
   "source": [
    "#print(data)"
   ]
  },
  {
   "cell_type": "code",
   "execution_count": 2,
   "metadata": {},
   "outputs": [
    {
     "ename": "KeyError",
     "evalue": "'9e40b738-1c78-4367-91e3-c3e2125bd4f8'",
     "output_type": "error",
     "traceback": [
      "\u001b[0;31m---------------------------------------------------------------------------\u001b[0m",
      "\u001b[0;31mKeyError\u001b[0m                                  Traceback (most recent call last)",
      "\u001b[0;32m<ipython-input-2-e7930f4a5e0f>\u001b[0m in \u001b[0;36m<module>\u001b[0;34m\u001b[0m\n\u001b[1;32m      2\u001b[0m \u001b[0msoup\u001b[0m \u001b[0;34m=\u001b[0m \u001b[0mBeautifulSoup\u001b[0m\u001b[0;34m(\u001b[0m\u001b[0mresp\u001b[0m\u001b[0;34m.\u001b[0m\u001b[0mtext\u001b[0m\u001b[0;34m,\u001b[0m \u001b[0;34m'html.parser'\u001b[0m\u001b[0;34m)\u001b[0m\u001b[0;34m\u001b[0m\u001b[0;34m\u001b[0m\u001b[0m\n\u001b[1;32m      3\u001b[0m \u001b[0mscripts\u001b[0m \u001b[0;34m=\u001b[0m \u001b[0mjson\u001b[0m\u001b[0;34m.\u001b[0m\u001b[0mloads\u001b[0m\u001b[0;34m(\u001b[0m\u001b[0msoup\u001b[0m\u001b[0;34m.\u001b[0m\u001b[0mfind_all\u001b[0m\u001b[0;34m(\u001b[0m\u001b[0;34m'script'\u001b[0m\u001b[0;34m)\u001b[0m\u001b[0;34m[\u001b[0m\u001b[0;36m5\u001b[0m\u001b[0;34m]\u001b[0m\u001b[0;34m.\u001b[0m\u001b[0mget_text\u001b[0m\u001b[0;34m(\u001b[0m\u001b[0;34m)\u001b[0m\u001b[0;34m)\u001b[0m\u001b[0;34m\u001b[0m\u001b[0;34m\u001b[0m\u001b[0m\n\u001b[0;32m----> 4\u001b[0;31m \u001b[0msynth_brands\u001b[0m \u001b[0;34m=\u001b[0m \u001b[0mscripts\u001b[0m\u001b[0;34m[\u001b[0m\u001b[0;34m'vsTermMenuLink'\u001b[0m\u001b[0;34m]\u001b[0m\u001b[0;34m[\u001b[0m\u001b[0;34m'9e40b738-1c78-4367-91e3-c3e2125bd4f8'\u001b[0m\u001b[0;34m]\u001b[0m\u001b[0;34m[\u001b[0m\u001b[0;34m'terms'\u001b[0m\u001b[0;34m]\u001b[0m\u001b[0;34m\u001b[0m\u001b[0;34m\u001b[0m\u001b[0m\n\u001b[0m\u001b[1;32m      5\u001b[0m \u001b[0;31m#print(synth_brands)\u001b[0m\u001b[0;34m\u001b[0m\u001b[0;34m\u001b[0m\u001b[0;34m\u001b[0m\u001b[0m\n",
      "\u001b[0;31mKeyError\u001b[0m: '9e40b738-1c78-4367-91e3-c3e2125bd4f8'"
     ]
    }
   ],
   "source": [
    "resp = requests.get(\"http://www.vintagesynth.com/misc/virusa.php\")\n",
    "soup = BeautifulSoup(resp.text, 'html.parser')\n",
    "scripts = json.loads(soup.find_all('script')[5].get_text())\n",
    "synth_brands = scripts['vsTermMenuLink']['9e40b738-1c78-4367-91e3-c3e2125bd4f8']['terms']\n",
    "#print(synth_brands)"
   ]
  },
  {
   "cell_type": "code",
   "execution_count": null,
   "metadata": {},
   "outputs": [],
   "source": []
  },
  {
   "cell_type": "code",
   "execution_count": null,
   "metadata": {},
   "outputs": [],
   "source": [
    "synth_models_all = []\n",
    "\n",
    "for brand_key in synth_brands.keys():\n",
    "    synth_models = scripts['vsTermMenuLink']['9e40b738-1c78-4367-91e3-c3e2125bd4f8']['nodes']\n",
    "    #print(synth_models)\n",
    "    for fm_key, mod in synth_models.items():\n",
    "        for md_key, m in list(mod.items()):\n",
    "            #print('m: ', m)\n",
    "            model = {}\n",
    "            model['firm'] = synth_brands[fm_key]['title']\n",
    "            model['model_name'] = m['title']\n",
    "            model['mod_key'] = m['key']\n",
    "            model['url'] = m['url']\n",
    "            \n",
    "            synth_models_all.append(model)"
   ]
  },
  {
   "cell_type": "code",
   "execution_count": null,
   "metadata": {},
   "outputs": [],
   "source": [
    "#print(synth_models_all[:5])"
   ]
  },
  {
   "cell_type": "code",
   "execution_count": null,
   "metadata": {},
   "outputs": [],
   "source": [
    "def cleanup_specs(specs):\n",
    "    spec_keys = list(specs.keys())\n",
    "    #print(specifications['Date Produced'])\n",
    "    if 'Date Produced' in spec_keys:\n",
    "        try:\n",
    "            model['release_year'] = int(specifications['Date Produced'][:4])\n",
    "        except:\n",
    "            model['release_year'] = 'Please enter manually'\n",
    "        try:\n",
    "            model['end_year'] = int(specifications['Date Produced'][-4:])\n",
    "        except:\n",
    "            model['end_year'] = 'n/a'\n",
    "    else:\n",
    "        model['release_year'] = 'n/a'\n",
    "        model['end_year'] = 'n/a'\n",
    "            \n",
    "    if 'digital' in specs or 'Digital' in specs:\n",
    "        model['digital'] = 1\n",
    "        model['analog'] = 0\n",
    "        #if model['Sampler'] = \n",
    "    else:\n",
    "        model['digital'] = 0\n",
    "        model['analog'] = 1\n",
    "        \n",
    "    if 'Polyphony' in spec_keys:\n",
    "        model['poly'] = 1\n",
    "    else:\n",
    "        model['poly'] = 0\n",
    "        \n",
    "    #if specs['Sampler']\n",
    "    \n",
    "    if 'Keyboard' in spec_keys:\n",
    "        if specs['Keyboard'] == 'None':\n",
    "            model['keyboard'] = 0\n",
    "        else:\n",
    "            model['keyboard'] = 1\n",
    "    else:\n",
    "        model['keyboard'] = 0\n",
    "    \n",
    "    if 'Memory' in spec_keys:\n",
    "        if specs['Memory'] == 'None':\n",
    "            model['memory'] = 0\n",
    "        else:\n",
    "            model['memory'] = 1\n",
    "    else:\n",
    "        model['memory'] = 0"
   ]
  },
  {
   "cell_type": "code",
   "execution_count": null,
   "metadata": {},
   "outputs": [],
   "source": [
    "data = synth_models_all\n",
    "for model in synth_models_all:\n",
    "\n",
    "    resp = requests.get(model['url'])\n",
    "    soup = BeautifulSoup(resp.text, 'html.parser')\n",
    "    #print('soup: ===============\\n',soup)\n",
    "    all_scripts = soup.find_all('script')[5].get_text()\n",
    "    \n",
    "    # return ratings (user & VSE)\n",
    "    pattern = re.compile(r'Cspan\\\\u003E((.)*)\\\\u003C\\\\/span', re.MULTILINE | re.DOTALL)\n",
    "    script = soup.find(\"script\", text=pattern)\n",
    "    if script:\n",
    "        match = pattern.search(soup.text)\n",
    "        if match:\n",
    "            user_rating = match.group(1)\n",
    "    rt = json.loads(all_scripts)\n",
    "    #print(list(rt['fiveStarts'].values())[1])\n",
    "    try:\n",
    "        vse_rating = float(list(rt['fiveStarts'].values())[1]['value'])\n",
    "    except:\n",
    "        vse_rating = 'n/a'\n",
    "    model['user_rating'] = float(user_rating)\n",
    "    model['vse_rating'] = vse_rating\n",
    "    \n",
    "    # return dictionary of specifications\n",
    "    specifications = {}\n",
    "    for div in soup.findAll('div', {'class': 'double-field-extended'}):\n",
    "        specifications[div.find('span').attrs['title']] = div.find('span',{'class':'specification-value'}).get_text()\n",
    "    \n",
    "    #print('================= specifications: \\n', specifications, '\\n====================================')\n",
    "    cleanup_specs(specifications)\n",
    "    model['specifications'] = specifications\n",
    "    \n",
    "    \n",
    "    #print('=== model w/ ratings: ', model, ' ===')\n",
    "    # return raw text\n",
    "    text_part = \"\"\n",
    "    for sect in soup.findAll('section', {'class': 'block-entity-fieldnodebody'}):\n",
    "        for p in sect.findAll('p'):\n",
    "            text_part+=str(p.get_text())\n",
    "    model['raw_text'] = text_part\n",
    "    print('raw text: ==================\\n', text, '\\n====================================')\n",
    "    \n",
    "    #break\n",
    "    data.append(model)\n",
    "\n",
    "#print(model)"
   ]
  },
  {
   "cell_type": "code",
   "execution_count": null,
   "metadata": {},
   "outputs": [],
   "source": [
    "print(model[9])"
   ]
  },
  {
   "cell_type": "code",
   "execution_count": null,
   "metadata": {},
   "outputs": [],
   "source": [
    "print(data[:10])"
   ]
  },
  {
   "cell_type": "raw",
   "metadata": {},
   "source": [
    "csv_columns = ['firm', 'model_name', mod_key', 'url', 'user_rating', 'vse_rating',\n",
    "               'release_year', 'end_year', \n",
    "               'analog', 'hybrid', 'digital', 'analog_sampling', 'sampler_or_ropler',\n",
    "               'software_synth', 'poly', 'keyboard', 'knobs', 'memory', \n",
    "               'specifications', 'raw_text'\n",
    "              ]"
   ]
  },
  {
   "cell_type": "code",
   "execution_count": null,
   "metadata": {},
   "outputs": [],
   "source": [
    "# To CSV\n",
    "csv_columns = ['firm', 'model_name', 'mod_key', 'url', 'user_rating', 'vse_rating'\n",
    "               'release_year', 'end_year', \n",
    "               'digital', 'analog', 'poly', 'keyboard', 'memory', \n",
    "               'specifications', 'raw_text'\n",
    "              ]\n",
    "\n",
    "csv_file = \"Coded_Models_by_manufacturer_resurgence.csv\"\n",
    "try:\n",
    "    with open(csv_file, 'w') as csvfile:\n",
    "        writer = csv.DictWriter(csvfile, fieldnames=csv_columns)\n",
    "        writer.writeheader()\n",
    "        for d in data:\n",
    "            writer.writerow(d)\n",
    "except IOError:\n",
    "    print(\"I/O error\") "
   ]
  },
  {
   "cell_type": "code",
   "execution_count": null,
   "metadata": {},
   "outputs": [],
   "source": []
  }
 ],
 "metadata": {
  "kernelspec": {
   "display_name": "Python 3",
   "language": "python",
   "name": "python3"
  },
  "language_info": {
   "codemirror_mode": {
    "name": "ipython",
    "version": 3
   },
   "file_extension": ".py",
   "mimetype": "text/x-python",
   "name": "python",
   "nbconvert_exporter": "python",
   "pygments_lexer": "ipython3",
   "version": "3.7.1"
  }
 },
 "nbformat": 4,
 "nbformat_minor": 2
}
